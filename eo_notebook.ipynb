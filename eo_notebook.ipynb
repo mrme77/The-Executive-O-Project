{
 "cells": [
  {
   "cell_type": "markdown",
   "metadata": {},
   "source": [
    "### Loading data"
   ]
  },
  {
   "cell_type": "code",
   "execution_count": 21,
   "metadata": {},
   "outputs": [],
   "source": [
    "import torch\n",
    "import numpy as np\n",
    "import torch.nn as nn\n",
    "from sklearn.preprocessing import RobustScaler\n",
    "from torch.utils.data import Dataset, DataLoader\n",
    "from torch.utils.data import TensorDataset\n",
    "import torch.nn as nn\n",
    "import torch.optim as optim\n",
    "from sklearn.preprocessing import LabelEncoder\n",
    "import requests\n",
    "import pandas as pd\n",
    "from pytorch_forecasting import TimeSeriesDataSet, TemporalFusionTransformer\n",
    "from pytorch_forecasting.data import GroupNormalizer\n",
    "from pytorch_forecasting.metrics import QuantileLoss\n",
    "from pytorch_lightning import Trainer\n",
    "from pytorch_lightning.callbacks import EarlyStopping\n",
    "import matplotlib.pyplot as plt\n",
    "from utils import eo_grabber\n",
    "\n"
   ]
  },
  {
   "cell_type": "code",
   "execution_count": 2,
   "metadata": {},
   "outputs": [
    {
     "name": "stdout",
     "output_type": "stream",
     "text": [
      "Data successfully written to federal_register_data.csv\n"
     ]
    }
   ],
   "source": [
    "url = \"https://www.federalregister.gov/api/v1/documents.csv?fields[]=document_number&fields[]=executive_order_number&fields[]=president&fields[]=publication_date&fields[]=signing_date&fields[]=title&per_page=1000&order=newest&conditions[publication_date][gte]=2000&conditions[presidential_document_type][]=executive_order\"\n",
    "\n",
    "eo_grabber(url)"
   ]
  },
  {
   "cell_type": "code",
   "execution_count": 2,
   "metadata": {},
   "outputs": [
    {
     "data": {
      "text/plain": [
       "(1000, 6)"
      ]
     },
     "execution_count": 2,
     "metadata": {},
     "output_type": "execute_result"
    }
   ],
   "source": [
    "df = pd.read_csv('federal_register_data.csv')\n",
    "df.shape"
   ]
  },
  {
   "cell_type": "markdown",
   "metadata": {},
   "source": [
    "### EDA"
   ]
  },
  {
   "cell_type": "code",
   "execution_count": 3,
   "metadata": {},
   "outputs": [
    {
     "name": "stdout",
     "output_type": "stream",
     "text": [
      "<class 'pandas.core.frame.DataFrame'>\n",
      "RangeIndex: 1000 entries, 0 to 999\n",
      "Data columns (total 6 columns):\n",
      " #   Column                  Non-Null Count  Dtype  \n",
      "---  ------                  --------------  -----  \n",
      " 0   document_number         1000 non-null   object \n",
      " 1   executive_order_number  983 non-null    float64\n",
      " 2   president               1000 non-null   object \n",
      " 3   publication_date        1000 non-null   object \n",
      " 4   signing_date            983 non-null    object \n",
      " 5   title                   1000 non-null   object \n",
      "dtypes: float64(1), object(5)\n",
      "memory usage: 47.0+ KB\n"
     ]
    }
   ],
   "source": [
    "df.info()"
   ]
  },
  {
   "cell_type": "code",
   "execution_count": 4,
   "metadata": {},
   "outputs": [
    {
     "data": {
      "text/plain": [
       "np.False_"
      ]
     },
     "execution_count": 4,
     "metadata": {},
     "output_type": "execute_result"
    }
   ],
   "source": [
    "df.document_number.duplicated().any()"
   ]
  },
  {
   "cell_type": "markdown",
   "metadata": {},
   "source": [
    "### Data pre-processing"
   ]
  },
  {
   "cell_type": "code",
   "execution_count": 5,
   "metadata": {},
   "outputs": [],
   "source": [
    "\n",
    "df['signing_date'] = pd.to_datetime(df['signing_date'], errors='coerce')\n",
    "df['publication_date'] = pd.to_datetime(df['signing_date'], errors='coerce')\n",
    "\n",
    "valid_diff = (df['publication_date'] - df['signing_date']).dt.days\n",
    "\n",
    "median_diff = valid_diff.dropna().median()\n",
    "\n",
    "df['signing_date'] = df['signing_date'].fillna(df['publication_date'] - pd.to_timedelta(median_diff, unit='D'))\n"
   ]
  },
  {
   "cell_type": "code",
   "execution_count": 6,
   "metadata": {},
   "outputs": [],
   "source": [
    "#drop rows with NaN in 'executive_order_number'\n",
    "df= df.dropna(subset=['executive_order_number'])"
   ]
  },
  {
   "cell_type": "code",
   "execution_count": 7,
   "metadata": {},
   "outputs": [],
   "source": [
    "\n",
    "df['signing_year'] = df['signing_date'].dt.year\n",
    "df['political_party'] = df['president'].apply(lambda x: 'Democrat' if 'Obama' in x or 'Biden' in x else ('Republican' if 'Trump' in x or 'Bush' in x else 'Other'))"
   ]
  },
  {
   "cell_type": "code",
   "execution_count": 8,
   "metadata": {},
   "outputs": [],
   "source": [
    "# Define presidential terms with term number\n",
    "presidents_terms = [\n",
    "    # Format: (name, term_number, start_date, end_date)\n",
    "    (\"Bill Clinton\", 1, \"1993-01-20\", \"1997-01-19\"),\n",
    "    (\"Bill Clinton\", 2, \"1997-01-20\", \"2001-01-19\"),\n",
    "    (\"George W. Bush\", 1, \"2001-01-20\", \"2005-01-19\"),\n",
    "    (\"George W. Bush\", 2, \"2005-01-20\", \"2009-01-19\"),\n",
    "    (\"Barack Obama\", 1, \"2009-01-20\", \"2013-01-19\"),\n",
    "    (\"Barack Obama\", 2, \"2013-01-20\", \"2017-01-19\"),\n",
    "    (\"Donald J. Trump\", 1, \"2017-01-20\", \"2021-01-19\"),\n",
    "    (\"Joseph R. Biden Jr.\", 1, \"2021-01-20\", \"2025-01-19\"),\n",
    "    (\"Donald J. Trump\", 2, \"2025-01-20\", \"2029-01-19\"),  # Hypothetical re-election\n",
    "]\n",
    "\n",
    "# Convert dates to datetime objects\n",
    "presidents_terms = [(name, term, pd.to_datetime(start), pd.to_datetime(end)) \n",
    "                   for name, term, start, end in presidents_terms]\n",
    "\n",
    "# Function to determine president and term number based on publication date\n",
    "def get_president_and_term(pub_date):\n",
    "    if pd.isna(pub_date):\n",
    "        return \"Unknown President\", \"Unknown Term\"\n",
    "    \n",
    "    for name, term, start, end in presidents_terms:\n",
    "        if start <= pub_date <= end:\n",
    "            term_text = \"1st Term\" if term == 1 else \"2nd Term\"\n",
    "            return name, term_text, start.strftime(\"%Y-%m-%d\"), end.strftime(\"%Y-%m-%d\")\n",
    "    \n",
    "    return \"Unknown President\", \"Unknown Term\"\n",
    "\n",
    "# Apply the function to get both president and term\n",
    "df['president_info'] = df['signing_date'].apply(get_president_and_term)\n",
    "\n",
    "# Split the tuple into separate columns for clarity\n",
    "#df['president'] = df['president_info'].apply(lambda x: x[0])\n",
    "df['serving_term'] = df['president_info'].apply(lambda x: x[1])\n",
    "df['term_start'] = df['president_info'].apply(lambda x: x[2])\n",
    "df['term_end'] = df['president_info'].apply(lambda x: x[3])\n",
    "\n",
    "# Drop the intermediate column if desired\n",
    "df = df.drop('president_info', axis=1)\n"
   ]
  },
  {
   "cell_type": "code",
   "execution_count": 9,
   "metadata": {},
   "outputs": [],
   "source": [
    "df['eo_title_length'] = df['title'].apply(lambda x: len(x) if isinstance(x, str) else 0).astype(int)"
   ]
  },
  {
   "cell_type": "code",
   "execution_count": 10,
   "metadata": {},
   "outputs": [],
   "source": [
    "df[\"term_start\"] = pd.to_datetime(df[\"term_start\"])\n",
    "df[\"days_since_term_start\"] = (df[\"publication_date\"] - df[\"term_start\"]).dt.days   \n",
    "\n"
   ]
  },
  {
   "cell_type": "code",
   "execution_count": 11,
   "metadata": {},
   "outputs": [
    {
     "data": {
      "text/html": [
       "<div>\n",
       "<style scoped>\n",
       "    .dataframe tbody tr th:only-of-type {\n",
       "        vertical-align: middle;\n",
       "    }\n",
       "\n",
       "    .dataframe tbody tr th {\n",
       "        vertical-align: top;\n",
       "    }\n",
       "\n",
       "    .dataframe thead th {\n",
       "        text-align: right;\n",
       "    }\n",
       "</style>\n",
       "<table border=\"1\" class=\"dataframe\">\n",
       "  <thead>\n",
       "    <tr style=\"text-align: right;\">\n",
       "      <th></th>\n",
       "      <th>document_number</th>\n",
       "      <th>executive_order_number</th>\n",
       "      <th>president</th>\n",
       "      <th>publication_date</th>\n",
       "      <th>signing_date</th>\n",
       "      <th>title</th>\n",
       "      <th>signing_year</th>\n",
       "      <th>political_party</th>\n",
       "      <th>serving_term</th>\n",
       "      <th>term_start</th>\n",
       "      <th>term_end</th>\n",
       "      <th>eo_title_length</th>\n",
       "      <th>days_since_term_start</th>\n",
       "    </tr>\n",
       "  </thead>\n",
       "  <tbody>\n",
       "    <tr>\n",
       "      <th>0</th>\n",
       "      <td>2025-09802</td>\n",
       "      <td>14303.0</td>\n",
       "      <td>Donald Trump</td>\n",
       "      <td>2025-05-23</td>\n",
       "      <td>2025-05-23</td>\n",
       "      <td>Restoring Gold Standard Science</td>\n",
       "      <td>2025</td>\n",
       "      <td>Republican</td>\n",
       "      <td>2nd Term</td>\n",
       "      <td>2025-01-20</td>\n",
       "      <td>2029-01-19</td>\n",
       "      <td>31</td>\n",
       "      <td>123</td>\n",
       "    </tr>\n",
       "    <tr>\n",
       "      <th>1</th>\n",
       "      <td>2025-09801</td>\n",
       "      <td>14302.0</td>\n",
       "      <td>Donald Trump</td>\n",
       "      <td>2025-05-23</td>\n",
       "      <td>2025-05-23</td>\n",
       "      <td>Reinvigorating the Nuclear Industrial Base</td>\n",
       "      <td>2025</td>\n",
       "      <td>Republican</td>\n",
       "      <td>2nd Term</td>\n",
       "      <td>2025-01-20</td>\n",
       "      <td>2029-01-19</td>\n",
       "      <td>42</td>\n",
       "      <td>123</td>\n",
       "    </tr>\n",
       "    <tr>\n",
       "      <th>2</th>\n",
       "      <td>2025-09799</td>\n",
       "      <td>14301.0</td>\n",
       "      <td>Donald Trump</td>\n",
       "      <td>2025-05-23</td>\n",
       "      <td>2025-05-23</td>\n",
       "      <td>Reforming Nuclear Reactor Testing at the Depar...</td>\n",
       "      <td>2025</td>\n",
       "      <td>Republican</td>\n",
       "      <td>2nd Term</td>\n",
       "      <td>2025-01-20</td>\n",
       "      <td>2029-01-19</td>\n",
       "      <td>61</td>\n",
       "      <td>123</td>\n",
       "    </tr>\n",
       "    <tr>\n",
       "      <th>3</th>\n",
       "      <td>2025-09798</td>\n",
       "      <td>14300.0</td>\n",
       "      <td>Donald Trump</td>\n",
       "      <td>2025-05-23</td>\n",
       "      <td>2025-05-23</td>\n",
       "      <td>Ordering the Reform of the Nuclear Regulatory ...</td>\n",
       "      <td>2025</td>\n",
       "      <td>Republican</td>\n",
       "      <td>2nd Term</td>\n",
       "      <td>2025-01-20</td>\n",
       "      <td>2029-01-19</td>\n",
       "      <td>56</td>\n",
       "      <td>123</td>\n",
       "    </tr>\n",
       "    <tr>\n",
       "      <th>4</th>\n",
       "      <td>2025-09796</td>\n",
       "      <td>14299.0</td>\n",
       "      <td>Donald Trump</td>\n",
       "      <td>2025-05-23</td>\n",
       "      <td>2025-05-23</td>\n",
       "      <td>Deploying Advanced Nuclear Reactor Technologie...</td>\n",
       "      <td>2025</td>\n",
       "      <td>Republican</td>\n",
       "      <td>2nd Term</td>\n",
       "      <td>2025-01-20</td>\n",
       "      <td>2029-01-19</td>\n",
       "      <td>69</td>\n",
       "      <td>123</td>\n",
       "    </tr>\n",
       "  </tbody>\n",
       "</table>\n",
       "</div>"
      ],
      "text/plain": [
       "  document_number  executive_order_number      president publication_date  \\\n",
       "0      2025-09802                 14303.0   Donald Trump       2025-05-23   \n",
       "1      2025-09801                 14302.0   Donald Trump       2025-05-23   \n",
       "2      2025-09799                 14301.0   Donald Trump       2025-05-23   \n",
       "3      2025-09798                 14300.0   Donald Trump       2025-05-23   \n",
       "4      2025-09796                 14299.0   Donald Trump       2025-05-23   \n",
       "\n",
       "  signing_date                                              title  \\\n",
       "0   2025-05-23                    Restoring Gold Standard Science   \n",
       "1   2025-05-23         Reinvigorating the Nuclear Industrial Base   \n",
       "2   2025-05-23  Reforming Nuclear Reactor Testing at the Depar...   \n",
       "3   2025-05-23  Ordering the Reform of the Nuclear Regulatory ...   \n",
       "4   2025-05-23  Deploying Advanced Nuclear Reactor Technologie...   \n",
       "\n",
       "   signing_year political_party serving_term term_start    term_end  \\\n",
       "0          2025      Republican     2nd Term 2025-01-20  2029-01-19   \n",
       "1          2025      Republican     2nd Term 2025-01-20  2029-01-19   \n",
       "2          2025      Republican     2nd Term 2025-01-20  2029-01-19   \n",
       "3          2025      Republican     2nd Term 2025-01-20  2029-01-19   \n",
       "4          2025      Republican     2nd Term 2025-01-20  2029-01-19   \n",
       "\n",
       "   eo_title_length  days_since_term_start  \n",
       "0               31                    123  \n",
       "1               42                    123  \n",
       "2               61                    123  \n",
       "3               56                    123  \n",
       "4               69                    123  "
      ]
     },
     "execution_count": 11,
     "metadata": {},
     "output_type": "execute_result"
    }
   ],
   "source": [
    "df['president'] = df.president.str.split(';', expand=True)[3]\n",
    "df.head()"
   ]
  },
  {
   "cell_type": "code",
   "execution_count": 12,
   "metadata": {},
   "outputs": [
    {
     "data": {
      "text/plain": [
       "Index(['document_number', 'executive_order_number', 'president',\n",
       "       'publication_date', 'signing_date', 'title', 'signing_year',\n",
       "       'political_party', 'serving_term', 'term_start', 'term_end',\n",
       "       'eo_title_length', 'days_since_term_start'],\n",
       "      dtype='object')"
      ]
     },
     "execution_count": 12,
     "metadata": {},
     "output_type": "execute_result"
    }
   ],
   "source": [
    "df.columns"
   ]
  },
  {
   "cell_type": "code",
   "execution_count": 13,
   "metadata": {},
   "outputs": [],
   "source": [
    "\n",
    "df['month_year'] = df['signing_date'].dt.to_period('M').astype(str)  # '2021-03'\n",
    "\n",
    "\n",
    "eo_counts = df.groupby(['month_year', 'political_party', 'serving_term']).size().reset_index(name='eo_count')\n",
    "eo_counts = pd.get_dummies(eo_counts, columns=['serving_term'], prefix='term')\n",
    "eo_counts = pd.get_dummies(eo_counts, columns=['political_party'], prefix='term')\n"
   ]
  },
  {
   "cell_type": "code",
   "execution_count": 14,
   "metadata": {},
   "outputs": [],
   "source": [
    "eo_counts['year'] = pd.to_datetime(eo_counts['month_year'], format='%Y-%m').dt.year\n",
    "eo_counts['month'] = pd.to_datetime(eo_counts['month_year'], format='%Y-%m').dt.month\n"
   ]
  },
  {
   "cell_type": "code",
   "execution_count": 27,
   "metadata": {},
   "outputs": [],
   "source": [
    "#eo_counts['EO_YTD'] = eo_counts.groupby('year')['eo_count'].cumsum()\n",
    "eo_counts['EO_YTD_Per_Month'] = eo_counts['EO_YTD'] / eo_counts['month']\n",
    "\n"
   ]
  },
  {
   "cell_type": "code",
   "execution_count": 41,
   "metadata": {},
   "outputs": [],
   "source": [
    "eo_counts['Prev_Year'] = eo_counts['year'] - 1\n",
    "eo_counts['Prev_Month'] = eo_counts['month'] \n",
    "\n",
    "# Rename the EO count column for the join\n",
    "prev_year_data = eo_counts[['year', 'month', 'eo_count']].copy()\n",
    "prev_year_data.columns = ['Prev_Year', 'Prev_Month', 'EO_Prev_Year_Same_Month']\n",
    "\n",
    "# Join on (Year-1, Month) to get same-month last year\n",
    "eo_counts = eo_counts.merge(prev_year_data, on=['Prev_Year', 'Prev_Month'], how='left')\n",
    "\n",
    "# Drop helper columns\n",
    "eo_counts.drop(columns=['Prev_Year', 'Prev_Month'], inplace=True)"
   ]
  },
  {
   "cell_type": "code",
   "execution_count": 68,
   "metadata": {},
   "outputs": [],
   "source": [
    "eo_counts['EO_Prev_Year_Same_Month'] = eo_counts['EO_Prev_Year_Same_Month'].fillna(0)\n"
   ]
  },
  {
   "cell_type": "code",
   "execution_count": 43,
   "metadata": {},
   "outputs": [],
   "source": [
    "features = ['EO_Prev_Year_Same_Month','EO_YTD_Per_Month','year', 'month', 'term_1st Term', 'term_2nd Term', 'term_Democrat', 'term_Republican']\n",
    "target = 'eo_count'"
   ]
  },
  {
   "cell_type": "code",
   "execution_count": 71,
   "metadata": {},
   "outputs": [],
   "source": [
    "\n",
    "train_df = eo_counts[eo_counts['year'] <= 2015]\n",
    "test_df = eo_counts[eo_counts['year'] > 2015]\n"
   ]
  },
  {
   "cell_type": "code",
   "execution_count": 72,
   "metadata": {},
   "outputs": [],
   "source": [
    "X_train = train_df[features].values.astype(float)\n",
    "y_train = train_df[target].values\n",
    "X_test = test_df[features].values.astype(float)\n",
    "y_test = test_df[target].values"
   ]
  },
  {
   "cell_type": "code",
   "execution_count": 73,
   "metadata": {},
   "outputs": [],
   "source": [
    "\n",
    "\n",
    "scaler = RobustScaler()\n",
    "X_train_scaled = scaler.fit_transform(X_train)\n",
    "X_test_scaled = scaler.transform(X_test)\n"
   ]
  },
  {
   "cell_type": "code",
   "execution_count": 74,
   "metadata": {},
   "outputs": [],
   "source": [
    "\n",
    "\n",
    "y_train_log = np.log1p(y_train)  # log(1 + y) for train target\n",
    "y_test_log = np.log1p(y_test)    # same for test target\n"
   ]
  },
  {
   "cell_type": "code",
   "execution_count": 75,
   "metadata": {},
   "outputs": [],
   "source": [
    "\n",
    "\n",
    "X_train_tensor = torch.tensor(X_train_scaled, dtype=torch.float32)\n",
    "y_train_tensor = torch.tensor(y_train_log, dtype=torch.float32).view(-1, 1)\n",
    "\n",
    "X_test_tensor = torch.tensor(X_test_scaled, dtype=torch.float32)\n",
    "y_test_tensor = torch.tensor(y_test_log, dtype=torch.float32).view(-1, 1)\n"
   ]
  },
  {
   "cell_type": "code",
   "execution_count": 77,
   "metadata": {},
   "outputs": [
    {
     "name": "stdout",
     "output_type": "stream",
     "text": [
      "Epoch 0: Loss = 4.7656\n",
      "Epoch 100: Loss = 4.0277\n",
      "Epoch 200: Loss = 3.2945\n",
      "Epoch 300: Loss = 2.8143\n",
      "Epoch 400: Loss = 2.2217\n",
      "Epoch 500: Loss = 1.9126\n",
      "Epoch 600: Loss = 1.5184\n",
      "Epoch 700: Loss = 1.4685\n",
      "Epoch 800: Loss = 1.2571\n",
      "Epoch 900: Loss = 1.1340\n",
      "Epoch 1000: Loss = 1.1708\n",
      "Epoch 1100: Loss = 0.9116\n",
      "Epoch 1200: Loss = 0.8907\n",
      "Epoch 1300: Loss = 0.9086\n",
      "Epoch 1400: Loss = 0.8008\n",
      "Epoch 1500: Loss = 0.7849\n",
      "Epoch 1600: Loss = 0.8159\n",
      "Epoch 1700: Loss = 0.8051\n",
      "Epoch 1800: Loss = 0.7705\n",
      "Epoch 1900: Loss = 0.7610\n",
      "Epoch 2000: Loss = 0.7288\n",
      "Epoch 2100: Loss = 0.7275\n",
      "Epoch 2200: Loss = 0.7216\n",
      "Epoch 2300: Loss = 0.7367\n",
      "Epoch 2400: Loss = 0.7103\n",
      "Epoch 2500: Loss = 0.7209\n",
      "Epoch 2600: Loss = 0.7633\n",
      "Epoch 2700: Loss = 0.7438\n",
      "Epoch 2800: Loss = 0.7133\n",
      "Epoch 2900: Loss = 0.7848\n",
      "Epoch 3000: Loss = 0.7045\n",
      "Epoch 3100: Loss = 0.7013\n",
      "Epoch 3200: Loss = 0.7504\n",
      "Epoch 3300: Loss = 0.7835\n",
      "Epoch 3400: Loss = 0.6864\n",
      "Epoch 3500: Loss = 0.7111\n",
      "Epoch 3600: Loss = 0.7408\n",
      "Epoch 3700: Loss = 0.6851\n",
      "Epoch 3800: Loss = 0.7392\n",
      "Epoch 3900: Loss = 0.7458\n",
      "Epoch 4000: Loss = 0.7258\n",
      "Epoch 4100: Loss = 0.7598\n",
      "Epoch 4200: Loss = 0.6740\n",
      "Epoch 4300: Loss = 0.7110\n",
      "Epoch 4400: Loss = 0.6927\n",
      "Epoch 4500: Loss = 0.7179\n",
      "Epoch 4600: Loss = 0.7663\n",
      "Epoch 4700: Loss = 0.7405\n",
      "Epoch 4800: Loss = 0.7468\n",
      "Epoch 4900: Loss = 0.6909\n",
      "Epoch 5000: Loss = 0.7083\n",
      "Epoch 5100: Loss = 0.7479\n",
      "Epoch 5200: Loss = 0.7040\n",
      "Epoch 5300: Loss = 0.7282\n",
      "Epoch 5400: Loss = 0.7640\n",
      "Epoch 5500: Loss = 0.6939\n",
      "Epoch 5600: Loss = 0.6629\n",
      "Epoch 5700: Loss = 0.7209\n",
      "Epoch 5800: Loss = 0.7667\n",
      "Epoch 5900: Loss = 0.6679\n",
      "Epoch 6000: Loss = 0.7144\n",
      "Epoch 6100: Loss = 0.7432\n",
      "Epoch 6200: Loss = 0.6945\n",
      "Epoch 6300: Loss = 0.6790\n",
      "Epoch 6400: Loss = 0.6797\n",
      "Epoch 6500: Loss = 0.7242\n",
      "Epoch 6600: Loss = 0.6800\n",
      "Epoch 6700: Loss = 0.7207\n",
      "Epoch 6800: Loss = 0.7080\n",
      "Epoch 6900: Loss = 0.6617\n",
      "Epoch 7000: Loss = 0.7443\n",
      "Epoch 7100: Loss = 0.7149\n",
      "Epoch 7200: Loss = 0.7083\n",
      "Epoch 7300: Loss = 0.6679\n",
      "Epoch 7400: Loss = 0.6864\n",
      "Epoch 7500: Loss = 0.6937\n",
      "Epoch 7600: Loss = 0.6848\n",
      "Epoch 7700: Loss = 0.6535\n",
      "Epoch 7800: Loss = 0.7396\n",
      "Epoch 7900: Loss = 0.7179\n",
      "Epoch 8000: Loss = 0.6379\n",
      "Epoch 8100: Loss = 0.6779\n",
      "Epoch 8200: Loss = 0.6621\n",
      "Epoch 8300: Loss = 0.6513\n",
      "Epoch 8400: Loss = 0.6822\n",
      "Epoch 8500: Loss = 0.6937\n",
      "Epoch 8600: Loss = 0.6644\n",
      "Epoch 8700: Loss = 0.7268\n",
      "Epoch 8800: Loss = 0.6738\n",
      "Epoch 8900: Loss = 0.6660\n",
      "Epoch 9000: Loss = 0.6773\n",
      "Epoch 9100: Loss = 0.7083\n",
      "Epoch 9200: Loss = 0.7022\n",
      "Epoch 9300: Loss = 0.7392\n",
      "Epoch 9400: Loss = 0.6758\n",
      "Epoch 9500: Loss = 0.7091\n",
      "Epoch 9600: Loss = 0.7346\n",
      "Epoch 9700: Loss = 0.6775\n",
      "Epoch 9800: Loss = 0.6266\n",
      "Epoch 9900: Loss = 0.6445\n"
     ]
    }
   ],
   "source": [
    "# Define the model\n",
    "# model = nn.Sequential(\n",
    "#     nn.Linear(6, 32),\n",
    "#     nn.ReLU(),\n",
    "#     nn.Linear(32, 16),\n",
    "#     nn.ReLU(),\n",
    "#     nn.Linear(16, 1)\n",
    "# )\n",
    "model = nn.Sequential(\n",
    "    nn.Linear(8, 64),\n",
    "    nn.ReLU(),\n",
    "    nn.Linear(64, 32),\n",
    "    nn.ReLU(),\n",
    "    nn.Linear(32, 16),\n",
    "    nn.ReLU(),\n",
    "    nn.Linear(16, 8),\n",
    "    nn.ReLU(),\n",
    "    nn.Linear(8, 1)\n",
    ")\n",
    "# model = nn.Sequential(\n",
    "#     nn.Linear(6, 64),\n",
    "#     nn.BatchNorm1d(64),\n",
    "#     nn.ReLU(),\n",
    "#     nn.Dropout(0.2),\n",
    "\n",
    "#     nn.Linear(64, 32),\n",
    "#     nn.BatchNorm1d(32),\n",
    "#     nn.ReLU(),\n",
    "#     nn.Dropout(0.2),\n",
    "\n",
    "#     nn.Linear(32, 16),\n",
    "#     nn.BatchNorm1d(16),\n",
    "#     nn.ReLU(),\n",
    "#     nn.Dropout(0.1),\n",
    "\n",
    "#     nn.Linear(16, 8),\n",
    "#     nn.ReLU(),\n",
    "\n",
    "#     nn.Linear(8, 1)\n",
    "# )\n",
    "\n",
    "# Loss and optimizer\n",
    "loss_fn = torch.nn.MSELoss()\n",
    "#optimizer = torch.optim.SGD(model.parameters(), lr=0.001)\n",
    "optimizer = torch.optim.SGD(model.parameters(), lr=0.0001)\n",
    "#optimizer = torch.optim.Adam(model.parameters(), lr=0.0001)\n",
    "\n",
    "\n",
    "# Prepare mini-batch DataLoader\n",
    "train_dataset = TensorDataset(X_train_tensor, y_train_tensor)\n",
    "train_loader = DataLoader(train_dataset, batch_size=32, shuffle=True)\n",
    "\n",
    "# Training loop\n",
    "num_epochs = 10000\n",
    "\n",
    "for epoch in range(num_epochs):\n",
    "    epoch_loss = 0.0\n",
    "    for X_batch, y_batch in train_loader:\n",
    "        # Forward pass\n",
    "        outputs = model(X_batch)\n",
    "        loss = loss_fn(outputs, y_batch)\n",
    "\n",
    "        # Backward pass and optimization\n",
    "        optimizer.zero_grad()\n",
    "        loss.backward()\n",
    "        optimizer.step()\n",
    "\n",
    "        epoch_loss += loss.item()\n",
    "\n",
    "    # Print loss every 100 epochs\n",
    "    if epoch % 100 == 0:\n",
    "        print(f\"Epoch {epoch}: Loss = {epoch_loss:.4f}\")\n",
    "\n",
    "\n",
    "\n"
   ]
  },
  {
   "cell_type": "code",
   "execution_count": 78,
   "metadata": {},
   "outputs": [
    {
     "name": "stdout",
     "output_type": "stream",
     "text": [
      "Final test MSE: 0.1828\n",
      "Test RMSE: 0.43\n"
     ]
    }
   ],
   "source": [
    "model.eval()\n",
    "with torch.no_grad():\n",
    "    predictions = model(X_test_tensor)\n",
    "    mse = loss_fn(predictions, y_test_tensor)\n",
    "    print(f\"Final test MSE: {mse.item():.4f}\")\n",
    "    rmse = torch.sqrt(torch.tensor(mse.item()))\n",
    "    print(f\"Test RMSE: {rmse.item():.2f}\")\n"
   ]
  },
  {
   "cell_type": "code",
   "execution_count": 79,
   "metadata": {},
   "outputs": [
    {
     "name": "stdout",
     "output_type": "stream",
     "text": [
      "     Actual  Predicted\n",
      "90        3   2.530000\n",
      "91        2   2.540000\n",
      "92        3   2.540000\n",
      "93        1   2.530000\n",
      "94        1   2.580000\n",
      "95        3   2.560000\n",
      "96        3   2.490000\n",
      "97        4   2.580000\n",
      "98        1   2.510000\n",
      "99        1   2.480000\n",
      "100       2   2.480000\n",
      "101       2   2.480000\n",
      "102       1   2.470000\n",
      "103       5   2.500000\n",
      "104      13   5.380000\n",
      "105      46  81.989998\n",
      "106      30  34.689999\n",
      "107      33  27.520000\n",
      "108      34  26.150000\n",
      "109      14  19.830000\n"
     ]
    }
   ],
   "source": [
    "\n",
    "\n",
    "# Set the model to evaluation mode\n",
    "model.eval()\n",
    "\n",
    "# Get predictions\n",
    "with torch.no_grad():\n",
    "    preds_log = model(X_test_tensor).squeeze()\n",
    "\n",
    "# If you used log1p transformation, invert it with expm1\n",
    "preds = torch.expm1(preds_log).numpy()  # convert log1p back to original scale\n",
    "actuals = y_test  # y_test should already be in original scale (not log)\n",
    "\n",
    "# Create the comparison table\n",
    "results_df = pd.DataFrame({\n",
    "    'Actual': actuals,\n",
    "    'Predicted': preds\n",
    "})\n",
    "\n",
    "# Optional: Round to 2 decimal places\n",
    "results_df = results_df.round(2)\n",
    "\n",
    "# Show the first few rows\n",
    "print(results_df.tail(20))\n"
   ]
  },
  {
   "cell_type": "code",
   "execution_count": 38,
   "metadata": {},
   "outputs": [
    {
     "name": "stdout",
     "output_type": "stream",
     "text": [
      "Test RMSE (original scale): 6.2041\n"
     ]
    }
   ],
   "source": [
    "import torch\n",
    "import numpy as np\n",
    "\n",
    "model.eval()\n",
    "with torch.no_grad():\n",
    "    # Predict on test set (log scale)\n",
    "    preds_log = model(X_test_tensor)\n",
    "\n",
    "    # Inverse transform predictions and actual values\n",
    "    preds_orig = torch.expm1(preds_log).squeeze().numpy()\n",
    "    actuals_orig = torch.expm1(y_test_tensor).squeeze().numpy()\n",
    "\n",
    "    # Calculate RMSE on original scale\n",
    "    rmse_orig = np.sqrt(np.mean((preds_orig - actuals_orig) ** 2))\n",
    "    print(f\"Test RMSE (original scale): {rmse_orig:.4f}\")\n"
   ]
  },
  {
   "cell_type": "code",
   "execution_count": 39,
   "metadata": {},
   "outputs": [
    {
     "name": "stdout",
     "output_type": "stream",
     "text": [
      "Train target range:\n",
      "Min: 1, Max: 9\n",
      "Test target range:\n",
      "Min: 1, Max: 46\n"
     ]
    }
   ],
   "source": [
    "print(\"Train target range:\")\n",
    "print(f\"Min: {y_train.min()}, Max: {y_train.max()}\")\n",
    "\n",
    "\n",
    "print(\"Test target range:\")\n",
    "print(f\"Min: {y_test.min()}, Max: {y_test.max()}\")\n"
   ]
  },
  {
   "cell_type": "code",
   "execution_count": 40,
   "metadata": {},
   "outputs": [
    {
     "data": {
      "text/plain": [
       "month_year           object\n",
       "eo_count              int64\n",
       "term_1st Term          bool\n",
       "term_2nd Term          bool\n",
       "term_Democrat          bool\n",
       "term_Republican        bool\n",
       "year                  int32\n",
       "month                 int32\n",
       "EO_YTD                int64\n",
       "EO_YTD_Per_Month    float64\n",
       "dtype: object"
      ]
     },
     "execution_count": 40,
     "metadata": {},
     "output_type": "execute_result"
    }
   ],
   "source": [
    "eo_counts.dtypes"
   ]
  },
  {
   "cell_type": "markdown",
   "metadata": {},
   "source": [
    "\n"
   ]
  }
 ],
 "metadata": {
  "kernelspec": {
   "display_name": "eoproject-env",
   "language": "python",
   "name": "python3"
  },
  "language_info": {
   "codemirror_mode": {
    "name": "ipython",
    "version": 3
   },
   "file_extension": ".py",
   "mimetype": "text/x-python",
   "name": "python",
   "nbconvert_exporter": "python",
   "pygments_lexer": "ipython3",
   "version": "3.13.1"
  }
 },
 "nbformat": 4,
 "nbformat_minor": 2
}
